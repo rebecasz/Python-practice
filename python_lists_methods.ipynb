{
 "cells": [
  {
   "cell_type": "markdown",
   "id": "edbbf4f7",
   "metadata": {},
   "source": [
    "\n",
    "1. **append(x):**\n",
    "   - Adds an element `x` to the end of the list.\n",
    "\n",
    "2. **clear():**\n",
    "   - Removes all elements from the list.\n",
    "\n",
    "3. **copy():**\n",
    "   - Returns a shallow copy of the list.\n",
    "\n",
    "4. **count(x):**\n",
    "   - Returns the number of occurrences of element `x` in the list.\n",
    "\n",
    "5. **extend(iterable):**\n",
    "   - Extends the list by appending elements from the iterable.\n",
    "\n",
    "6. **index(x, [start, [end]]):**\n",
    "   - Returns the index of the first occurrence of element `x`. Raises a ValueError if `x` is not found.\n",
    "\n",
    "7. **insert(i, x):**\n",
    "   - Inserts element `x` at position `i`.\n",
    "\n",
    "8. **pop([i]):**\n",
    "   - Removes and returns the element at index `i`. If `i` is not provided, it removes and returns the last element.\n",
    "\n",
    "9. **remove(x):**\n",
    "   - Removes the first occurrence of element `x` from the list. Raises a ValueError if `x` is not found.\n",
    "\n",
    "10. **reverse():**\n",
    "    - Reverses the elements of the list in-place.\n",
    "\n",
    "11. **sort(key=None, reverse=False):**\n",
    "    - Sorts the elements of the list in ascending order. Use `reverse=True` for descending order.\n",
    "\n",
    "12. **_ add _(other):**\n",
    "    - Returns a new list containing elements from both the list and `other`.\n",
    "\n",
    "13. **_ contains _(x):**\n",
    "    - Returns `True` if the list contains element `x`, `False` otherwise.\n",
    "\n",
    "14. **_ delitem _(i):**\n",
    "    - Deletes the element at index `i`.\n",
    "\n",
    "15. **_ eq _(other):**\n",
    "    - Compares the list with `other` for equality.\n",
    "\n",
    "16. **_ getitem _(i):**\n",
    "    - Returns the element at index `i`.\n",
    "\n",
    "17. **_ iadd _(other):**\n",
    "    - Performs in-place addition with `other`.\n",
    "\n",
    "18. **_ imul _(n):**\n",
    "    - Performs in-place multiplication by `n`.\n",
    "\n",
    "19. **_ iter _():**\n",
    "    - Returns an iterator for the list.\n",
    "\n",
    "20. **_ len _():**\n",
    "    - Returns the number of elements in the list.\n",
    "\n",
    "21. **_ mul _(n):**\n",
    "    - Returns a new list with elements repeated `n` times.\n",
    "\n",
    "22. **_ ne _(other):**\n",
    "    - Compares the list with `other` for inequality.\n",
    "\n",
    "23. **_ repr _():**\n",
    "    - Returns a string representation of the list.\n",
    "\n",
    "24. **_ setitem _(i, x):**\n",
    "    - Sets the element at index `i` to `x`.\n"
   ]
  },
  {
   "cell_type": "code",
   "execution_count": 2,
   "id": "7ae58cbd",
   "metadata": {},
   "outputs": [
    {
     "name": "stdout",
     "output_type": "stream",
     "text": [
      "[1, 2, 3, 4]\n"
     ]
    }
   ],
   "source": [
    "my_list = [1, 2, 3]\n",
    "my_list.append(4)\n",
    "print(my_list)"
   ]
  },
  {
   "cell_type": "code",
   "execution_count": 3,
   "id": "1a651d87",
   "metadata": {},
   "outputs": [
    {
     "name": "stdout",
     "output_type": "stream",
     "text": [
      "[1, 2, 3, 4, 5]\n"
     ]
    }
   ],
   "source": [
    "my_list = [1, 2, 3]\n",
    "my_list.extend([4, 5])\n",
    "print(my_list) "
   ]
  },
  {
   "cell_type": "code",
   "execution_count": 4,
   "id": "6950631a",
   "metadata": {},
   "outputs": [
    {
     "name": "stdout",
     "output_type": "stream",
     "text": [
      "[1, 4, 2, 3]\n"
     ]
    }
   ],
   "source": [
    "my_list = [1, 2, 3]\n",
    "my_list.insert(1, 4)\n",
    "print(my_list) "
   ]
  },
  {
   "cell_type": "code",
   "execution_count": 5,
   "id": "d2881bef",
   "metadata": {},
   "outputs": [
    {
     "name": "stdout",
     "output_type": "stream",
     "text": [
      "[1, 3, 2]\n"
     ]
    }
   ],
   "source": [
    "my_list = [1, 2, 3, 2]\n",
    "my_list.remove(2)\n",
    "print(my_list) "
   ]
  },
  {
   "cell_type": "code",
   "execution_count": 7,
   "id": "08e728b4",
   "metadata": {},
   "outputs": [
    {
     "name": "stdout",
     "output_type": "stream",
     "text": [
      "[1, 3]\n"
     ]
    }
   ],
   "source": [
    "my_list = [1, 2, 3]\n",
    "my_list.pop(1)\n",
    "print(my_list)        "
   ]
  },
  {
   "cell_type": "code",
   "execution_count": 8,
   "id": "314fb67b",
   "metadata": {},
   "outputs": [
    {
     "name": "stdout",
     "output_type": "stream",
     "text": [
      "[1, 2]\n"
     ]
    }
   ],
   "source": [
    "my_list = [1, 2, 3]\n",
    "my_list.pop()\n",
    "print(my_list)    "
   ]
  },
  {
   "cell_type": "code",
   "execution_count": 9,
   "id": "9a687b90",
   "metadata": {},
   "outputs": [
    {
     "name": "stdout",
     "output_type": "stream",
     "text": [
      "1\n"
     ]
    }
   ],
   "source": [
    "my_list = [1, 2, 3, 2]\n",
    "index = my_list.index(2)\n",
    "print(index)  "
   ]
  },
  {
   "cell_type": "code",
   "execution_count": 10,
   "id": "eef4c755",
   "metadata": {},
   "outputs": [
    {
     "name": "stdout",
     "output_type": "stream",
     "text": [
      "2\n"
     ]
    }
   ],
   "source": [
    "my_list = [1, 2, 3, 2]\n",
    "count = my_list.count(2)\n",
    "print(count)  "
   ]
  },
  {
   "cell_type": "code",
   "execution_count": 11,
   "id": "2f0dad8a",
   "metadata": {},
   "outputs": [
    {
     "name": "stdout",
     "output_type": "stream",
     "text": [
      "[1, 1, 2, 3, 4, 5, 9]\n"
     ]
    }
   ],
   "source": [
    "my_list = [3, 1, 4, 1, 5, 9, 2]\n",
    "my_list.sort()\n",
    "print(my_list)  "
   ]
  },
  {
   "cell_type": "code",
   "execution_count": 12,
   "id": "af0fa4d5",
   "metadata": {},
   "outputs": [
    {
     "name": "stdout",
     "output_type": "stream",
     "text": [
      "[9, 5, 4, 3, 2, 1, 1]\n"
     ]
    }
   ],
   "source": [
    "my_list = [3, 1, 4, 1, 5, 9, 2]\n",
    "my_list.sort(reverse=True)\n",
    "print(my_list)  "
   ]
  },
  {
   "cell_type": "code",
   "execution_count": 13,
   "id": "5bde83a4",
   "metadata": {},
   "outputs": [
    {
     "name": "stdout",
     "output_type": "stream",
     "text": [
      "[3, 2, 1]\n"
     ]
    }
   ],
   "source": [
    "my_list = [1, 2, 3]\n",
    "my_list.reverse()\n",
    "print(my_list)  "
   ]
  },
  {
   "cell_type": "code",
   "execution_count": 14,
   "id": "c9fb8fb9",
   "metadata": {},
   "outputs": [
    {
     "name": "stdout",
     "output_type": "stream",
     "text": [
      "[1, 2, 3]\n"
     ]
    }
   ],
   "source": [
    "my_list = [1, 2, 3]\n",
    "new_list = my_list.copy()\n",
    "print(new_list) "
   ]
  },
  {
   "cell_type": "code",
   "execution_count": 15,
   "id": "10bf65e6",
   "metadata": {},
   "outputs": [
    {
     "name": "stdout",
     "output_type": "stream",
     "text": [
      "[]\n"
     ]
    }
   ],
   "source": [
    "my_list = [1, 2, 3]\n",
    "my_list.clear()\n",
    "print(my_list)  "
   ]
  },
  {
   "cell_type": "code",
   "execution_count": 19,
   "id": "3602d301",
   "metadata": {},
   "outputs": [
    {
     "name": "stdout",
     "output_type": "stream",
     "text": [
      "[1, 2, 3, 4, 5, 6]\n"
     ]
    }
   ],
   "source": [
    "list1 = [1, 2, 3]\n",
    "list2 = [4, 5, 6]\n",
    "new_list = list1 + list2\n",
    "print(new_list)  "
   ]
  },
  {
   "cell_type": "code",
   "execution_count": 20,
   "id": "e5f66b29",
   "metadata": {},
   "outputs": [
    {
     "name": "stdout",
     "output_type": "stream",
     "text": [
      "True\n",
      "False\n"
     ]
    }
   ],
   "source": [
    "my_list = [1, 2, 3]\n",
    "print(2 in my_list) \n",
    "print(4 in my_list)  "
   ]
  },
  {
   "cell_type": "code",
   "execution_count": 21,
   "id": "6efd1769",
   "metadata": {},
   "outputs": [
    {
     "name": "stdout",
     "output_type": "stream",
     "text": [
      "[1, 2, 4]\n"
     ]
    }
   ],
   "source": [
    "my_list = [1, 2, 3, 4]\n",
    "del my_list[2]\n",
    "print(my_list)"
   ]
  },
  {
   "cell_type": "code",
   "execution_count": 22,
   "id": "23457799",
   "metadata": {},
   "outputs": [
    {
     "name": "stdout",
     "output_type": "stream",
     "text": [
      "True\n"
     ]
    }
   ],
   "source": [
    "list1 = [1, 2, 3]\n",
    "list2 = [1, 2, 3]\n",
    "print(list1 == list2)"
   ]
  },
  {
   "cell_type": "code",
   "execution_count": 23,
   "id": "1da5ad9c",
   "metadata": {},
   "outputs": [
    {
     "name": "stdout",
     "output_type": "stream",
     "text": [
      "2\n"
     ]
    }
   ],
   "source": [
    "my_list = [1, 2, 3]\n",
    "element = my_list[1]\n",
    "print(element)"
   ]
  },
  {
   "cell_type": "code",
   "execution_count": 24,
   "id": "15aa9ac9",
   "metadata": {},
   "outputs": [
    {
     "name": "stdout",
     "output_type": "stream",
     "text": [
      "[1, 2, 3, 4, 5, 6]\n"
     ]
    }
   ],
   "source": [
    "list1 = [1, 2, 3]\n",
    "list2 = [4, 5, 6]\n",
    "list1 += list2\n",
    "print(list1)"
   ]
  },
  {
   "cell_type": "code",
   "execution_count": 25,
   "id": "a96fa5b0",
   "metadata": {},
   "outputs": [
    {
     "name": "stdout",
     "output_type": "stream",
     "text": [
      "[1, 2, 3, 1, 2, 3, 1, 2, 3]\n"
     ]
    }
   ],
   "source": [
    "my_list = [1, 2, 3]\n",
    "my_list *= 3\n",
    "print(my_list)"
   ]
  },
  {
   "cell_type": "code",
   "execution_count": 26,
   "id": "bffcd859",
   "metadata": {},
   "outputs": [
    {
     "name": "stdout",
     "output_type": "stream",
     "text": [
      "1\n",
      "2\n",
      "3\n"
     ]
    }
   ],
   "source": [
    "my_list = [1, 2, 3]\n",
    "my_iterator = iter(my_list)\n",
    "for element in my_iterator:\n",
    "    print(element)"
   ]
  },
  {
   "cell_type": "code",
   "execution_count": 27,
   "id": "3cd25b05",
   "metadata": {},
   "outputs": [
    {
     "name": "stdout",
     "output_type": "stream",
     "text": [
      "3\n"
     ]
    }
   ],
   "source": [
    "my_list = [1, 2, 3]\n",
    "length = len(my_list)\n",
    "print(length)"
   ]
  },
  {
   "cell_type": "code",
   "execution_count": 28,
   "id": "5279d5c3",
   "metadata": {},
   "outputs": [
    {
     "name": "stdout",
     "output_type": "stream",
     "text": [
      "[1, 2, 3, 1, 2, 3]\n"
     ]
    }
   ],
   "source": [
    "my_list = [1, 2, 3]\n",
    "new_list = my_list * 2\n",
    "print(new_list)"
   ]
  },
  {
   "cell_type": "code",
   "execution_count": 29,
   "id": "a42fcb49",
   "metadata": {},
   "outputs": [
    {
     "name": "stdout",
     "output_type": "stream",
     "text": [
      "True\n"
     ]
    }
   ],
   "source": [
    "list1 = [1, 2, 3]\n",
    "list2 = [4, 5, 6]\n",
    "print(list1 != list2)"
   ]
  },
  {
   "cell_type": "code",
   "execution_count": 30,
   "id": "a8b88313",
   "metadata": {},
   "outputs": [
    {
     "name": "stdout",
     "output_type": "stream",
     "text": [
      "[1, 2, 3]\n"
     ]
    }
   ],
   "source": [
    "my_list = [1, 2, 3]\n",
    "representation = repr(my_list)\n",
    "print(representation)"
   ]
  },
  {
   "cell_type": "code",
   "execution_count": 31,
   "id": "b2da959a",
   "metadata": {},
   "outputs": [
    {
     "name": "stdout",
     "output_type": "stream",
     "text": [
      "[1, 4, 3]\n"
     ]
    }
   ],
   "source": [
    "my_list = [1, 2, 3]\n",
    "my_list[1] = 4\n",
    "print(my_list)"
   ]
  },
  {
   "cell_type": "code",
   "execution_count": 1,
   "id": "b36d6942",
   "metadata": {},
   "outputs": [
    {
     "name": "stdout",
     "output_type": "stream",
     "text": [
      "[1, 2, 3, [3, 4]]\n"
     ]
    }
   ],
   "source": [
    "my_list = [1, 2, 3]\n",
    "l = [3,4]\n",
    "my_list.append(l)\n",
    "print(my_list)"
   ]
  },
  {
   "cell_type": "code",
   "execution_count": null,
   "id": "0a8b8a1e",
   "metadata": {},
   "outputs": [],
   "source": []
  }
 ],
 "metadata": {
  "kernelspec": {
   "display_name": "Python 3 (ipykernel)",
   "language": "python",
   "name": "python3"
  },
  "language_info": {
   "codemirror_mode": {
    "name": "ipython",
    "version": 3
   },
   "file_extension": ".py",
   "mimetype": "text/x-python",
   "name": "python",
   "nbconvert_exporter": "python",
   "pygments_lexer": "ipython3",
   "version": "3.9.12"
  }
 },
 "nbformat": 4,
 "nbformat_minor": 5
}
